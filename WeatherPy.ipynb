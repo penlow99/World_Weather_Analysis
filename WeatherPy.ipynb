{
 "metadata": {
  "language_info": {
   "codemirror_mode": {
    "name": "ipython",
    "version": 3
   },
   "file_extension": ".py",
   "mimetype": "text/x-python",
   "name": "python",
   "nbconvert_exporter": "python",
   "pygments_lexer": "ipython3",
   "version": "3.7.7-final"
  },
  "orig_nbformat": 2,
  "kernelspec": {
   "name": "Python 3.7.7 64-bit ('PythonData': conda)",
   "display_name": "Python 3.7.7 64-bit ('PythonData': conda)",
   "metadata": {
    "interpreter": {
     "hash": "e23f4f60931143176db9ec6317533e574a91510be5bd7dc0753f3d7ca18e38be"
    }
   }
  }
 },
 "nbformat": 4,
 "nbformat_minor": 2,
 "cells": [
  {
   "cell_type": "code",
   "execution_count": 3,
   "metadata": {},
   "outputs": [],
   "source": [
    "import requests\n",
    "from config import weather_api_key\n",
    "from datetime import datetime\n",
    "import numpy as np\n",
    "from citipy import citipy\n",
    "import pandas as pd"
   ]
  },
  {
   "cell_type": "code",
   "execution_count": 4,
   "metadata": {},
   "outputs": [
    {
     "output_type": "stream",
     "name": "stdout",
     "text": [
      "Beginning Data Retrieval  \n--------------------------\n"
     ]
    }
   ],
   "source": [
    "# Create an empty list to hold the weather data\n",
    "city_data = []\n",
    "# Print th beginning of the logging\n",
    "print(\"Beginning Data Retrieval  \")\n",
    "print(\"--------------------------\")"
   ]
  },
  {
   "cell_type": "code",
   "execution_count": 5,
   "metadata": {},
   "outputs": [],
   "source": [
    "# Create counters\n",
    "record_count = 1\n",
    "set_count = 1"
   ]
  },
  {
   "cell_type": "code",
   "execution_count": 6,
   "metadata": {},
   "outputs": [
    {
     "output_type": "execute_result",
     "data": {
      "text/plain": [
       "'http://api.openweathermap.org/data/2.5/weather?units=Imperial&APPID=08edac57d74f5725da3629ed8059ffb2'"
      ]
     },
     "metadata": {},
     "execution_count": 6
    }
   ],
   "source": [
    "# Starting URL for Weather Map API Call.\n",
    "url = \"http://api.openweathermap.org/data/2.5/weather?units=Imperial&APPID=\" + weather_api_key\n",
    "url"
   ]
  },
  {
   "cell_type": "code",
   "execution_count": 7,
   "metadata": {},
   "outputs": [
    {
     "output_type": "execute_result",
     "data": {
      "text/plain": [
       "<zip at 0x247251b5608>"
      ]
     },
     "metadata": {},
     "execution_count": 7
    }
   ],
   "source": [
    "# Create a set of random latitude and longitude combinations.\n",
    "lats = np.random.uniform(low=-90.000, high=90.000, size=1500)\n",
    "lngs = np.random.uniform(low=-180.000, high=180.000, size=1500)\n",
    "lat_lngs = zip(lats, lngs)\n",
    "lat_lngs"
   ]
  },
  {
   "cell_type": "code",
   "execution_count": 8,
   "metadata": {},
   "outputs": [
    {
     "output_type": "execute_result",
     "data": {
      "text/plain": [
       "617"
      ]
     },
     "metadata": {},
     "execution_count": 8
    }
   ],
   "source": [
    "# Add coordinates from tuple to list\n",
    "coordinates = list(lat_lngs)\n",
    "\n",
    "# Create a list for holding cities\n",
    "cities = []\n",
    "\n",
    "# Identify the nearest city for each latitude and longitude combination\n",
    "for coordinate in coordinates:\n",
    "    city = citipy.nearest_city(coordinate[0], coordinate[1]).city_name\n",
    "    # If city is not in list, add it to list\n",
    "    if city not in cities:\n",
    "        cities.append(city)\n",
    "# Print count of cities to confirm sufficient count\n",
    "len(cities)"
   ]
  },
  {
   "cell_type": "code",
   "execution_count": 9,
   "metadata": {
    "tags": [
     "outputPrepend"
    ]
   },
   "outputs": [
    {
     "output_type": "stream",
     "name": "stdout",
     "text": [
      "pi.openweathermap.org/data/2.5/weather?units=Imperial&APPID=08edac57d74f5725da3629ed8059ffb2&q=gorontalo\n",
      "Processing Record 45 of Set 10 | yerbogachen--URL: http://api.openweathermap.org/data/2.5/weather?units=Imperial&APPID=08edac57d74f5725da3629ed8059ffb2&q=yerbogachen\n",
      "Processing Record 46 of Set 10 | fare--URL: http://api.openweathermap.org/data/2.5/weather?units=Imperial&APPID=08edac57d74f5725da3629ed8059ffb2&q=fare\n",
      "Processing Record 47 of Set 10 | kieta--URL: http://api.openweathermap.org/data/2.5/weather?units=Imperial&APPID=08edac57d74f5725da3629ed8059ffb2&q=kieta\n",
      "Processing Record 48 of Set 10 | wilmington--URL: http://api.openweathermap.org/data/2.5/weather?units=Imperial&APPID=08edac57d74f5725da3629ed8059ffb2&q=wilmington\n",
      "Processing Record 49 of Set 10 | khartoum--URL: http://api.openweathermap.org/data/2.5/weather?units=Imperial&APPID=08edac57d74f5725da3629ed8059ffb2&q=khartoum\n",
      "Processing Record 50 of Set 10 | adeje--URL: http://api.openweathermap.org/data/2.5/weather?units=Imperial&APPID=08edac57d74f5725da3629ed8059ffb2&q=adeje\n",
      "Processing Record 1 of Set 11 | northam--URL: http://api.openweathermap.org/data/2.5/weather?units=Imperial&APPID=08edac57d74f5725da3629ed8059ffb2&q=northam\n",
      "Processing Record 2 of Set 11 | strezhevoy--URL: http://api.openweathermap.org/data/2.5/weather?units=Imperial&APPID=08edac57d74f5725da3629ed8059ffb2&q=strezhevoy\n",
      "Processing Record 3 of Set 11 | hualmay--URL: http://api.openweathermap.org/data/2.5/weather?units=Imperial&APPID=08edac57d74f5725da3629ed8059ffb2&q=hualmay\n",
      "Processing Record 4 of Set 11 | tervel--URL: http://api.openweathermap.org/data/2.5/weather?units=Imperial&APPID=08edac57d74f5725da3629ed8059ffb2&q=tervel\n",
      "Processing Record 5 of Set 11 | katangli--URL: http://api.openweathermap.org/data/2.5/weather?units=Imperial&APPID=08edac57d74f5725da3629ed8059ffb2&q=katangli\n",
      "Processing Record 6 of Set 11 | karuzi--URL: http://api.openweathermap.org/data/2.5/weather?units=Imperial&APPID=08edac57d74f5725da3629ed8059ffb2&q=karuzi\n",
      "Processing Record 7 of Set 11 | banjar--URL: http://api.openweathermap.org/data/2.5/weather?units=Imperial&APPID=08edac57d74f5725da3629ed8059ffb2&q=banjar\n",
      "Processing Record 8 of Set 11 | launceston--URL: http://api.openweathermap.org/data/2.5/weather?units=Imperial&APPID=08edac57d74f5725da3629ed8059ffb2&q=launceston\n",
      "Processing Record 9 of Set 11 | kozhevnikovo--URL: http://api.openweathermap.org/data/2.5/weather?units=Imperial&APPID=08edac57d74f5725da3629ed8059ffb2&q=kozhevnikovo\n",
      "Processing Record 10 of Set 11 | huainan--URL: http://api.openweathermap.org/data/2.5/weather?units=Imperial&APPID=08edac57d74f5725da3629ed8059ffb2&q=huainan\n",
      "Processing Record 11 of Set 11 | talnakh--URL: http://api.openweathermap.org/data/2.5/weather?units=Imperial&APPID=08edac57d74f5725da3629ed8059ffb2&q=talnakh\n",
      "Processing Record 12 of Set 11 | dunedin--URL: http://api.openweathermap.org/data/2.5/weather?units=Imperial&APPID=08edac57d74f5725da3629ed8059ffb2&q=dunedin\n",
      "Processing Record 13 of Set 11 | mantua--URL: http://api.openweathermap.org/data/2.5/weather?units=Imperial&APPID=08edac57d74f5725da3629ed8059ffb2&q=mantua\n",
      "Processing Record 14 of Set 11 | unity--URL: http://api.openweathermap.org/data/2.5/weather?units=Imperial&APPID=08edac57d74f5725da3629ed8059ffb2&q=unity\n",
      "Processing Record 15 of Set 11 | pitimbu--URL: http://api.openweathermap.org/data/2.5/weather?units=Imperial&APPID=08edac57d74f5725da3629ed8059ffb2&q=pitimbu\n",
      "Processing Record 16 of Set 11 | luanda--URL: http://api.openweathermap.org/data/2.5/weather?units=Imperial&APPID=08edac57d74f5725da3629ed8059ffb2&q=luanda\n",
      "Processing Record 17 of Set 11 | corn island--URL: http://api.openweathermap.org/data/2.5/weather?units=Imperial&APPID=08edac57d74f5725da3629ed8059ffb2&q=corn+island\n",
      "Processing Record 18 of Set 11 | gizo--URL: http://api.openweathermap.org/data/2.5/weather?units=Imperial&APPID=08edac57d74f5725da3629ed8059ffb2&q=gizo\n",
      "Processing Record 19 of Set 11 | samalaeulu--URL: http://api.openweathermap.org/data/2.5/weather?units=Imperial&APPID=08edac57d74f5725da3629ed8059ffb2&q=samalaeulu\n",
      "City not found. Skipping...\n",
      "Processing Record 20 of Set 11 | jefferson city--URL: http://api.openweathermap.org/data/2.5/weather?units=Imperial&APPID=08edac57d74f5725da3629ed8059ffb2&q=jefferson+city\n",
      "Processing Record 21 of Set 11 | camana--URL: http://api.openweathermap.org/data/2.5/weather?units=Imperial&APPID=08edac57d74f5725da3629ed8059ffb2&q=camana\n",
      "Processing Record 22 of Set 11 | buinsk--URL: http://api.openweathermap.org/data/2.5/weather?units=Imperial&APPID=08edac57d74f5725da3629ed8059ffb2&q=buinsk\n",
      "Processing Record 23 of Set 11 | beyneu--URL: http://api.openweathermap.org/data/2.5/weather?units=Imperial&APPID=08edac57d74f5725da3629ed8059ffb2&q=beyneu\n",
      "Processing Record 24 of Set 11 | turinsk--URL: http://api.openweathermap.org/data/2.5/weather?units=Imperial&APPID=08edac57d74f5725da3629ed8059ffb2&q=turinsk\n",
      "Processing Record 25 of Set 11 | riyadh--URL: http://api.openweathermap.org/data/2.5/weather?units=Imperial&APPID=08edac57d74f5725da3629ed8059ffb2&q=riyadh\n",
      "Processing Record 26 of Set 11 | shevchenkove--URL: http://api.openweathermap.org/data/2.5/weather?units=Imperial&APPID=08edac57d74f5725da3629ed8059ffb2&q=shevchenkove\n",
      "Processing Record 27 of Set 11 | nioro--URL: http://api.openweathermap.org/data/2.5/weather?units=Imperial&APPID=08edac57d74f5725da3629ed8059ffb2&q=nioro\n",
      "Processing Record 28 of Set 11 | oistins--URL: http://api.openweathermap.org/data/2.5/weather?units=Imperial&APPID=08edac57d74f5725da3629ed8059ffb2&q=oistins\n",
      "Processing Record 29 of Set 11 | rio gallegos--URL: http://api.openweathermap.org/data/2.5/weather?units=Imperial&APPID=08edac57d74f5725da3629ed8059ffb2&q=rio+gallegos\n",
      "Processing Record 30 of Set 11 | mayahi--URL: http://api.openweathermap.org/data/2.5/weather?units=Imperial&APPID=08edac57d74f5725da3629ed8059ffb2&q=mayahi\n",
      "Processing Record 31 of Set 11 | hailun--URL: http://api.openweathermap.org/data/2.5/weather?units=Imperial&APPID=08edac57d74f5725da3629ed8059ffb2&q=hailun\n",
      "Processing Record 32 of Set 11 | mamonovo--URL: http://api.openweathermap.org/data/2.5/weather?units=Imperial&APPID=08edac57d74f5725da3629ed8059ffb2&q=mamonovo\n",
      "Processing Record 33 of Set 11 | vershino-shakhtaminskiy--URL: http://api.openweathermap.org/data/2.5/weather?units=Imperial&APPID=08edac57d74f5725da3629ed8059ffb2&q=vershino-shakhtaminskiy\n",
      "Processing Record 34 of Set 11 | scarborough--URL: http://api.openweathermap.org/data/2.5/weather?units=Imperial&APPID=08edac57d74f5725da3629ed8059ffb2&q=scarborough\n",
      "Processing Record 35 of Set 11 | bandarbeyla--URL: http://api.openweathermap.org/data/2.5/weather?units=Imperial&APPID=08edac57d74f5725da3629ed8059ffb2&q=bandarbeyla\n",
      "Processing Record 36 of Set 11 | margate--URL: http://api.openweathermap.org/data/2.5/weather?units=Imperial&APPID=08edac57d74f5725da3629ed8059ffb2&q=margate\n",
      "Processing Record 37 of Set 11 | manaure--URL: http://api.openweathermap.org/data/2.5/weather?units=Imperial&APPID=08edac57d74f5725da3629ed8059ffb2&q=manaure\n",
      "Processing Record 38 of Set 11 | pangnirtung--URL: http://api.openweathermap.org/data/2.5/weather?units=Imperial&APPID=08edac57d74f5725da3629ed8059ffb2&q=pangnirtung\n",
      "Processing Record 39 of Set 11 | cukai--URL: http://api.openweathermap.org/data/2.5/weather?units=Imperial&APPID=08edac57d74f5725da3629ed8059ffb2&q=cukai\n",
      "Processing Record 40 of Set 11 | katsiveli--URL: http://api.openweathermap.org/data/2.5/weather?units=Imperial&APPID=08edac57d74f5725da3629ed8059ffb2&q=katsiveli\n",
      "City not found. Skipping...\n",
      "Processing Record 41 of Set 11 | arlit--URL: http://api.openweathermap.org/data/2.5/weather?units=Imperial&APPID=08edac57d74f5725da3629ed8059ffb2&q=arlit\n",
      "Processing Record 42 of Set 11 | kupang--URL: http://api.openweathermap.org/data/2.5/weather?units=Imperial&APPID=08edac57d74f5725da3629ed8059ffb2&q=kupang\n",
      "Processing Record 43 of Set 11 | bilma--URL: http://api.openweathermap.org/data/2.5/weather?units=Imperial&APPID=08edac57d74f5725da3629ed8059ffb2&q=bilma\n",
      "Processing Record 44 of Set 11 | axim--URL: http://api.openweathermap.org/data/2.5/weather?units=Imperial&APPID=08edac57d74f5725da3629ed8059ffb2&q=axim\n",
      "Processing Record 45 of Set 11 | saint-augustin--URL: http://api.openweathermap.org/data/2.5/weather?units=Imperial&APPID=08edac57d74f5725da3629ed8059ffb2&q=saint-augustin\n",
      "Processing Record 46 of Set 11 | bazarnyye mataki--URL: http://api.openweathermap.org/data/2.5/weather?units=Imperial&APPID=08edac57d74f5725da3629ed8059ffb2&q=bazarnyye+mataki\n",
      "Processing Record 47 of Set 11 | daru--URL: http://api.openweathermap.org/data/2.5/weather?units=Imperial&APPID=08edac57d74f5725da3629ed8059ffb2&q=daru\n",
      "Processing Record 48 of Set 11 | ciudad bolivar--URL: http://api.openweathermap.org/data/2.5/weather?units=Imperial&APPID=08edac57d74f5725da3629ed8059ffb2&q=ciudad+bolivar\n",
      "Processing Record 49 of Set 11 | guerrero negro--URL: http://api.openweathermap.org/data/2.5/weather?units=Imperial&APPID=08edac57d74f5725da3629ed8059ffb2&q=guerrero+negro\n",
      "Processing Record 50 of Set 11 | leeton--URL: http://api.openweathermap.org/data/2.5/weather?units=Imperial&APPID=08edac57d74f5725da3629ed8059ffb2&q=leeton\n",
      "Processing Record 1 of Set 12 | hobyo--URL: http://api.openweathermap.org/data/2.5/weather?units=Imperial&APPID=08edac57d74f5725da3629ed8059ffb2&q=hobyo\n",
      "Processing Record 2 of Set 12 | bud--URL: http://api.openweathermap.org/data/2.5/weather?units=Imperial&APPID=08edac57d74f5725da3629ed8059ffb2&q=bud\n",
      "Processing Record 3 of Set 12 | royan--URL: http://api.openweathermap.org/data/2.5/weather?units=Imperial&APPID=08edac57d74f5725da3629ed8059ffb2&q=royan\n",
      "Processing Record 4 of Set 12 | pisco--URL: http://api.openweathermap.org/data/2.5/weather?units=Imperial&APPID=08edac57d74f5725da3629ed8059ffb2&q=pisco\n",
      "Processing Record 5 of Set 12 | euclides da cunha--URL: http://api.openweathermap.org/data/2.5/weather?units=Imperial&APPID=08edac57d74f5725da3629ed8059ffb2&q=euclides+da+cunha\n",
      "Processing Record 6 of Set 12 | hailar--URL: http://api.openweathermap.org/data/2.5/weather?units=Imperial&APPID=08edac57d74f5725da3629ed8059ffb2&q=hailar\n",
      "Processing Record 7 of Set 12 | brigantine--URL: http://api.openweathermap.org/data/2.5/weather?units=Imperial&APPID=08edac57d74f5725da3629ed8059ffb2&q=brigantine\n",
      "Processing Record 8 of Set 12 | upata--URL: http://api.openweathermap.org/data/2.5/weather?units=Imperial&APPID=08edac57d74f5725da3629ed8059ffb2&q=upata\n",
      "Processing Record 9 of Set 12 | alto longa--URL: http://api.openweathermap.org/data/2.5/weather?units=Imperial&APPID=08edac57d74f5725da3629ed8059ffb2&q=alto+longa\n",
      "Processing Record 10 of Set 12 | guaymas--URL: http://api.openweathermap.org/data/2.5/weather?units=Imperial&APPID=08edac57d74f5725da3629ed8059ffb2&q=guaymas\n",
      "Processing Record 11 of Set 12 | lima--URL: http://api.openweathermap.org/data/2.5/weather?units=Imperial&APPID=08edac57d74f5725da3629ed8059ffb2&q=lima\n",
      "Processing Record 12 of Set 12 | port hawkesbury--URL: http://api.openweathermap.org/data/2.5/weather?units=Imperial&APPID=08edac57d74f5725da3629ed8059ffb2&q=port+hawkesbury\n",
      "Processing Record 13 of Set 12 | mumbwa--URL: http://api.openweathermap.org/data/2.5/weather?units=Imperial&APPID=08edac57d74f5725da3629ed8059ffb2&q=mumbwa\n",
      "Processing Record 14 of Set 12 | kourou--URL: http://api.openweathermap.org/data/2.5/weather?units=Imperial&APPID=08edac57d74f5725da3629ed8059ffb2&q=kourou\n",
      "Processing Record 15 of Set 12 | bemidji--URL: http://api.openweathermap.org/data/2.5/weather?units=Imperial&APPID=08edac57d74f5725da3629ed8059ffb2&q=bemidji\n",
      "Processing Record 16 of Set 12 | skjervoy--URL: http://api.openweathermap.org/data/2.5/weather?units=Imperial&APPID=08edac57d74f5725da3629ed8059ffb2&q=skjervoy\n",
      "Processing Record 17 of Set 12 | nortelandia--URL: http://api.openweathermap.org/data/2.5/weather?units=Imperial&APPID=08edac57d74f5725da3629ed8059ffb2&q=nortelandia\n",
      "Processing Record 18 of Set 12 | ostrovnoy--URL: http://api.openweathermap.org/data/2.5/weather?units=Imperial&APPID=08edac57d74f5725da3629ed8059ffb2&q=ostrovnoy\n",
      "Processing Record 19 of Set 12 | bairiki--URL: http://api.openweathermap.org/data/2.5/weather?units=Imperial&APPID=08edac57d74f5725da3629ed8059ffb2&q=bairiki\n",
      "Processing Record 20 of Set 12 | wahiawa--URL: http://api.openweathermap.org/data/2.5/weather?units=Imperial&APPID=08edac57d74f5725da3629ed8059ffb2&q=wahiawa\n",
      "Processing Record 21 of Set 12 | ambagarh chauki--URL: http://api.openweathermap.org/data/2.5/weather?units=Imperial&APPID=08edac57d74f5725da3629ed8059ffb2&q=ambagarh+chauki\n",
      "Processing Record 22 of Set 12 | maumere--URL: http://api.openweathermap.org/data/2.5/weather?units=Imperial&APPID=08edac57d74f5725da3629ed8059ffb2&q=maumere\n",
      "Processing Record 23 of Set 12 | barawe--URL: http://api.openweathermap.org/data/2.5/weather?units=Imperial&APPID=08edac57d74f5725da3629ed8059ffb2&q=barawe\n",
      "City not found. Skipping...\n",
      "Processing Record 24 of Set 12 | qena--URL: http://api.openweathermap.org/data/2.5/weather?units=Imperial&APPID=08edac57d74f5725da3629ed8059ffb2&q=qena\n",
      "Processing Record 25 of Set 12 | dickinson--URL: http://api.openweathermap.org/data/2.5/weather?units=Imperial&APPID=08edac57d74f5725da3629ed8059ffb2&q=dickinson\n",
      "Processing Record 26 of Set 12 | auka--URL: http://api.openweathermap.org/data/2.5/weather?units=Imperial&APPID=08edac57d74f5725da3629ed8059ffb2&q=auka\n",
      "Processing Record 27 of Set 12 | primero de enero--URL: http://api.openweathermap.org/data/2.5/weather?units=Imperial&APPID=08edac57d74f5725da3629ed8059ffb2&q=primero+de+enero\n",
      "Processing Record 28 of Set 12 | gympie--URL: http://api.openweathermap.org/data/2.5/weather?units=Imperial&APPID=08edac57d74f5725da3629ed8059ffb2&q=gympie\n",
      "Processing Record 29 of Set 12 | ternate--URL: http://api.openweathermap.org/data/2.5/weather?units=Imperial&APPID=08edac57d74f5725da3629ed8059ffb2&q=ternate\n",
      "Processing Record 30 of Set 12 | balikpapan--URL: http://api.openweathermap.org/data/2.5/weather?units=Imperial&APPID=08edac57d74f5725da3629ed8059ffb2&q=balikpapan\n",
      "Processing Record 31 of Set 12 | sirawai--URL: http://api.openweathermap.org/data/2.5/weather?units=Imperial&APPID=08edac57d74f5725da3629ed8059ffb2&q=sirawai\n",
      "Processing Record 32 of Set 12 | huoqiu--URL: http://api.openweathermap.org/data/2.5/weather?units=Imperial&APPID=08edac57d74f5725da3629ed8059ffb2&q=huoqiu\n",
      "Processing Record 33 of Set 12 | mahanoro--URL: http://api.openweathermap.org/data/2.5/weather?units=Imperial&APPID=08edac57d74f5725da3629ed8059ffb2&q=mahanoro\n",
      "Processing Record 34 of Set 12 | lensk--URL: http://api.openweathermap.org/data/2.5/weather?units=Imperial&APPID=08edac57d74f5725da3629ed8059ffb2&q=lensk\n",
      "Processing Record 35 of Set 12 | nabire--URL: http://api.openweathermap.org/data/2.5/weather?units=Imperial&APPID=08edac57d74f5725da3629ed8059ffb2&q=nabire\n",
      "Processing Record 36 of Set 12 | sumbawa--URL: http://api.openweathermap.org/data/2.5/weather?units=Imperial&APPID=08edac57d74f5725da3629ed8059ffb2&q=sumbawa\n",
      "City not found. Skipping...\n",
      "Processing Record 37 of Set 12 | mumford--URL: http://api.openweathermap.org/data/2.5/weather?units=Imperial&APPID=08edac57d74f5725da3629ed8059ffb2&q=mumford\n",
      "Processing Record 38 of Set 12 | wenzhou--URL: http://api.openweathermap.org/data/2.5/weather?units=Imperial&APPID=08edac57d74f5725da3629ed8059ffb2&q=wenzhou\n",
      "Processing Record 39 of Set 12 | iquitos--URL: http://api.openweathermap.org/data/2.5/weather?units=Imperial&APPID=08edac57d74f5725da3629ed8059ffb2&q=iquitos\n",
      "Processing Record 40 of Set 12 | ukiah--URL: http://api.openweathermap.org/data/2.5/weather?units=Imperial&APPID=08edac57d74f5725da3629ed8059ffb2&q=ukiah\n",
      "Processing Record 41 of Set 12 | las palmas--URL: http://api.openweathermap.org/data/2.5/weather?units=Imperial&APPID=08edac57d74f5725da3629ed8059ffb2&q=las+palmas\n",
      "Processing Record 42 of Set 12 | jinchengjiang--URL: http://api.openweathermap.org/data/2.5/weather?units=Imperial&APPID=08edac57d74f5725da3629ed8059ffb2&q=jinchengjiang\n",
      "City not found. Skipping...\n",
      "Processing Record 43 of Set 12 | nenjiang--URL: http://api.openweathermap.org/data/2.5/weather?units=Imperial&APPID=08edac57d74f5725da3629ed8059ffb2&q=nenjiang\n",
      "Processing Record 44 of Set 12 | uribia--URL: http://api.openweathermap.org/data/2.5/weather?units=Imperial&APPID=08edac57d74f5725da3629ed8059ffb2&q=uribia\n",
      "Processing Record 45 of Set 12 | zomin--URL: http://api.openweathermap.org/data/2.5/weather?units=Imperial&APPID=08edac57d74f5725da3629ed8059ffb2&q=zomin\n",
      "Processing Record 46 of Set 12 | taitung--URL: http://api.openweathermap.org/data/2.5/weather?units=Imperial&APPID=08edac57d74f5725da3629ed8059ffb2&q=taitung\n",
      "Processing Record 47 of Set 12 | mgandu--URL: http://api.openweathermap.org/data/2.5/weather?units=Imperial&APPID=08edac57d74f5725da3629ed8059ffb2&q=mgandu\n",
      "Processing Record 48 of Set 12 | comodoro rivadavia--URL: http://api.openweathermap.org/data/2.5/weather?units=Imperial&APPID=08edac57d74f5725da3629ed8059ffb2&q=comodoro+rivadavia\n",
      "Processing Record 49 of Set 12 | asau--URL: http://api.openweathermap.org/data/2.5/weather?units=Imperial&APPID=08edac57d74f5725da3629ed8059ffb2&q=asau\n",
      "Processing Record 50 of Set 12 | abu dhabi--URL: http://api.openweathermap.org/data/2.5/weather?units=Imperial&APPID=08edac57d74f5725da3629ed8059ffb2&q=abu+dhabi\n",
      "Processing Record 1 of Set 13 | novyy nekouz--URL: http://api.openweathermap.org/data/2.5/weather?units=Imperial&APPID=08edac57d74f5725da3629ed8059ffb2&q=novyy+nekouz\n",
      "Processing Record 2 of Set 13 | bay roberts--URL: http://api.openweathermap.org/data/2.5/weather?units=Imperial&APPID=08edac57d74f5725da3629ed8059ffb2&q=bay+roberts\n",
      "Processing Record 3 of Set 13 | gravdal--URL: http://api.openweathermap.org/data/2.5/weather?units=Imperial&APPID=08edac57d74f5725da3629ed8059ffb2&q=gravdal\n",
      "Processing Record 4 of Set 13 | mosquera--URL: http://api.openweathermap.org/data/2.5/weather?units=Imperial&APPID=08edac57d74f5725da3629ed8059ffb2&q=mosquera\n",
      "Processing Record 5 of Set 13 | stephenville--URL: http://api.openweathermap.org/data/2.5/weather?units=Imperial&APPID=08edac57d74f5725da3629ed8059ffb2&q=stephenville\n",
      "Processing Record 6 of Set 13 | san policarpo--URL: http://api.openweathermap.org/data/2.5/weather?units=Imperial&APPID=08edac57d74f5725da3629ed8059ffb2&q=san+policarpo\n",
      "Processing Record 7 of Set 13 | muroto--URL: http://api.openweathermap.org/data/2.5/weather?units=Imperial&APPID=08edac57d74f5725da3629ed8059ffb2&q=muroto\n",
      "Processing Record 8 of Set 13 | dong hoi--URL: http://api.openweathermap.org/data/2.5/weather?units=Imperial&APPID=08edac57d74f5725da3629ed8059ffb2&q=dong+hoi\n",
      "Processing Record 9 of Set 13 | barreirinhas--URL: http://api.openweathermap.org/data/2.5/weather?units=Imperial&APPID=08edac57d74f5725da3629ed8059ffb2&q=barreirinhas\n",
      "Processing Record 10 of Set 13 | kamaishi--URL: http://api.openweathermap.org/data/2.5/weather?units=Imperial&APPID=08edac57d74f5725da3629ed8059ffb2&q=kamaishi\n",
      "Processing Record 11 of Set 13 | manta--URL: http://api.openweathermap.org/data/2.5/weather?units=Imperial&APPID=08edac57d74f5725da3629ed8059ffb2&q=manta\n",
      "Processing Record 12 of Set 13 | shingu--URL: http://api.openweathermap.org/data/2.5/weather?units=Imperial&APPID=08edac57d74f5725da3629ed8059ffb2&q=shingu\n",
      "Processing Record 13 of Set 13 | manacapuru--URL: http://api.openweathermap.org/data/2.5/weather?units=Imperial&APPID=08edac57d74f5725da3629ed8059ffb2&q=manacapuru\n",
      "Processing Record 14 of Set 13 | bubaque--URL: http://api.openweathermap.org/data/2.5/weather?units=Imperial&APPID=08edac57d74f5725da3629ed8059ffb2&q=bubaque\n",
      "Processing Record 15 of Set 13 | ocampo--URL: http://api.openweathermap.org/data/2.5/weather?units=Imperial&APPID=08edac57d74f5725da3629ed8059ffb2&q=ocampo\n",
      "Processing Record 16 of Set 13 | anshun--URL: http://api.openweathermap.org/data/2.5/weather?units=Imperial&APPID=08edac57d74f5725da3629ed8059ffb2&q=anshun\n",
      "Processing Record 17 of Set 13 | longavi--URL: http://api.openweathermap.org/data/2.5/weather?units=Imperial&APPID=08edac57d74f5725da3629ed8059ffb2&q=longavi\n",
      "-----------------------------\n",
      "Data Retrieval Complete      \n",
      "-----------------------------\n"
     ]
    }
   ],
   "source": [
    "# Loop through all the cities in the list using the enumerate method\n",
    "for i, city in enumerate(cities):\n",
    "\n",
    "    # Group cities in sets of 50 for logging purposes\n",
    "    if (i % 50 == 0 and i >= 50):\n",
    "        set_count += 1\n",
    "        record_count = 1\n",
    "    # Create endpoint URL with each city\n",
    "    city_url = url + '&q=' + city.replace(' ','+')\n",
    "\n",
    "    # Log the URL, record, and set numbers and the city\n",
    "    print(f'Processing Record {record_count} of Set {set_count} | {city}' + '--URL: ' + city_url)\n",
    "    # Increase the record count\n",
    "    record_count += 1\n",
    "\n",
    "    # Run an API request for each of the cities.\n",
    "    try:\n",
    "        # Parse the JSON and retrieve data.\n",
    "        city_weather = requests.get(city_url).json()\n",
    "        # Parse out the needed data.\n",
    "        city_lat = city_weather[\"coord\"][\"lat\"]\n",
    "        city_lng = city_weather[\"coord\"][\"lon\"]\n",
    "        city_max_temp = city_weather[\"main\"][\"temp_max\"]\n",
    "        city_humidity = city_weather[\"main\"][\"humidity\"]\n",
    "        city_clouds = city_weather[\"clouds\"][\"all\"]\n",
    "        city_wind = city_weather[\"wind\"][\"speed\"]\n",
    "        city_country = city_weather[\"sys\"][\"country\"]\n",
    "        # Convert the date to ISO standard.\n",
    "        city_date = datetime.utcfromtimestamp(city_weather[\"dt\"]).strftime('%Y-%m-%d %H:%M:%S')\n",
    "        # Append the city information into city_data list.\n",
    "        city_data.append({\"City\": city.title(),\n",
    "                          \"Lat\": city_lat,\n",
    "                          \"Lng\": city_lng,\n",
    "                          \"Max Temp\": city_max_temp,\n",
    "                          \"Humidity\": city_humidity,\n",
    "                          \"Cloudiness\": city_clouds,\n",
    "                          \"Wind Speed\": city_wind,\n",
    "                          \"Country\": city_country,\n",
    "                          \"Date\": city_date})\n",
    "\n",
    "    # If an error is experienced, skip the city.\n",
    "    except:\n",
    "        print(\"City not found. Skipping...\")\n",
    "        pass\n",
    "\n",
    "# Indicate that Data Loading is complete.\n",
    "print(\"-----------------------------\")\n",
    "print(\"Data Retrieval Complete      \")\n",
    "print(\"-----------------------------\")\n",
    "\n",
    "    "
   ]
  },
  {
   "cell_type": "code",
   "execution_count": 10,
   "metadata": {},
   "outputs": [
    {
     "output_type": "execute_result",
     "data": {
      "text/plain": [
       "570"
      ]
     },
     "metadata": {},
     "execution_count": 10
    }
   ],
   "source": [
    "len(city_data)"
   ]
  },
  {
   "cell_type": "code",
   "execution_count": 11,
   "metadata": {},
   "outputs": [
    {
     "output_type": "execute_result",
     "data": {
      "text/plain": [
       "         City    Lat     Lng  Max Temp  Humidity  Cloudiness  Wind Speed  \\\n",
       "0       Airai  -8.93  125.41     60.85        82          95        1.16   \n",
       "1  Georgetown   5.41  100.34     80.60        88          20        1.12   \n",
       "2        Nome  64.50 -165.41     35.60        93          90       17.22   \n",
       "3       Kihei  20.79 -156.47     78.01        73           1        0.78   \n",
       "4    Yartsevo  55.07   32.70     48.49        82          97        6.15   \n",
       "5        Tura  25.52   90.22     73.67        94           0        1.83   \n",
       "6     Mataura -46.19  168.86     32.29        91          59        3.74   \n",
       "7       Feijo  -8.16  -70.35     85.57        61          78        3.98   \n",
       "8       Bluff -46.60  168.33     45.18        56          52       21.47   \n",
       "9   Hithadhoo  -0.60   73.08     82.69        75          68       16.58   \n",
       "\n",
       "  Country                 Date  \n",
       "0      TL  2020-10-15 18:18:57  \n",
       "1      MY  2020-10-15 18:14:51  \n",
       "2      US  2020-10-15 18:19:06  \n",
       "3      US  2020-10-15 18:22:19  \n",
       "4      RU  2020-10-15 18:22:19  \n",
       "5      IN  2020-10-15 18:22:19  \n",
       "6      NZ  2020-10-15 18:18:37  \n",
       "7      BR  2020-10-15 18:22:19  \n",
       "8      NZ  2020-10-15 18:18:40  \n",
       "9      MV  2020-10-15 18:18:51  "
      ],
      "text/html": "<div>\n<style scoped>\n    .dataframe tbody tr th:only-of-type {\n        vertical-align: middle;\n    }\n\n    .dataframe tbody tr th {\n        vertical-align: top;\n    }\n\n    .dataframe thead th {\n        text-align: right;\n    }\n</style>\n<table border=\"1\" class=\"dataframe\">\n  <thead>\n    <tr style=\"text-align: right;\">\n      <th></th>\n      <th>City</th>\n      <th>Lat</th>\n      <th>Lng</th>\n      <th>Max Temp</th>\n      <th>Humidity</th>\n      <th>Cloudiness</th>\n      <th>Wind Speed</th>\n      <th>Country</th>\n      <th>Date</th>\n    </tr>\n  </thead>\n  <tbody>\n    <tr>\n      <th>0</th>\n      <td>Airai</td>\n      <td>-8.93</td>\n      <td>125.41</td>\n      <td>60.85</td>\n      <td>82</td>\n      <td>95</td>\n      <td>1.16</td>\n      <td>TL</td>\n      <td>2020-10-15 18:18:57</td>\n    </tr>\n    <tr>\n      <th>1</th>\n      <td>Georgetown</td>\n      <td>5.41</td>\n      <td>100.34</td>\n      <td>80.60</td>\n      <td>88</td>\n      <td>20</td>\n      <td>1.12</td>\n      <td>MY</td>\n      <td>2020-10-15 18:14:51</td>\n    </tr>\n    <tr>\n      <th>2</th>\n      <td>Nome</td>\n      <td>64.50</td>\n      <td>-165.41</td>\n      <td>35.60</td>\n      <td>93</td>\n      <td>90</td>\n      <td>17.22</td>\n      <td>US</td>\n      <td>2020-10-15 18:19:06</td>\n    </tr>\n    <tr>\n      <th>3</th>\n      <td>Kihei</td>\n      <td>20.79</td>\n      <td>-156.47</td>\n      <td>78.01</td>\n      <td>73</td>\n      <td>1</td>\n      <td>0.78</td>\n      <td>US</td>\n      <td>2020-10-15 18:22:19</td>\n    </tr>\n    <tr>\n      <th>4</th>\n      <td>Yartsevo</td>\n      <td>55.07</td>\n      <td>32.70</td>\n      <td>48.49</td>\n      <td>82</td>\n      <td>97</td>\n      <td>6.15</td>\n      <td>RU</td>\n      <td>2020-10-15 18:22:19</td>\n    </tr>\n    <tr>\n      <th>5</th>\n      <td>Tura</td>\n      <td>25.52</td>\n      <td>90.22</td>\n      <td>73.67</td>\n      <td>94</td>\n      <td>0</td>\n      <td>1.83</td>\n      <td>IN</td>\n      <td>2020-10-15 18:22:19</td>\n    </tr>\n    <tr>\n      <th>6</th>\n      <td>Mataura</td>\n      <td>-46.19</td>\n      <td>168.86</td>\n      <td>32.29</td>\n      <td>91</td>\n      <td>59</td>\n      <td>3.74</td>\n      <td>NZ</td>\n      <td>2020-10-15 18:18:37</td>\n    </tr>\n    <tr>\n      <th>7</th>\n      <td>Feijo</td>\n      <td>-8.16</td>\n      <td>-70.35</td>\n      <td>85.57</td>\n      <td>61</td>\n      <td>78</td>\n      <td>3.98</td>\n      <td>BR</td>\n      <td>2020-10-15 18:22:19</td>\n    </tr>\n    <tr>\n      <th>8</th>\n      <td>Bluff</td>\n      <td>-46.60</td>\n      <td>168.33</td>\n      <td>45.18</td>\n      <td>56</td>\n      <td>52</td>\n      <td>21.47</td>\n      <td>NZ</td>\n      <td>2020-10-15 18:18:40</td>\n    </tr>\n    <tr>\n      <th>9</th>\n      <td>Hithadhoo</td>\n      <td>-0.60</td>\n      <td>73.08</td>\n      <td>82.69</td>\n      <td>75</td>\n      <td>68</td>\n      <td>16.58</td>\n      <td>MV</td>\n      <td>2020-10-15 18:18:51</td>\n    </tr>\n  </tbody>\n</table>\n</div>"
     },
     "metadata": {},
     "execution_count": 11
    }
   ],
   "source": [
    "# Convert city data array into DataFrame\n",
    "city_data_df = pd.DataFrame(city_data)\n",
    "city_data_df.head(10)"
   ]
  },
  {
   "cell_type": "code",
   "execution_count": 15,
   "metadata": {},
   "outputs": [],
   "source": [
    "# Rearrange columns into a more logical order\n",
    "new_column_order = ['City', 'Country', 'Date', 'Lat', 'Lng', 'Max Temp', 'Humidity', 'Cloudiness', 'Wind Speed']\n",
    "city_data_df = city_data_df[new_column_order]"
   ]
  },
  {
   "cell_type": "code",
   "execution_count": 17,
   "metadata": {},
   "outputs": [
    {
     "output_type": "execute_result",
     "data": {
      "text/plain": [
       "         City Country                 Date    Lat     Lng  Max Temp  Humidity  \\\n",
       "0       Airai      TL  2020-10-15 18:18:57  -8.93  125.41     60.85        82   \n",
       "1  Georgetown      MY  2020-10-15 18:14:51   5.41  100.34     80.60        88   \n",
       "2        Nome      US  2020-10-15 18:19:06  64.50 -165.41     35.60        93   \n",
       "3       Kihei      US  2020-10-15 18:22:19  20.79 -156.47     78.01        73   \n",
       "4    Yartsevo      RU  2020-10-15 18:22:19  55.07   32.70     48.49        82   \n",
       "\n",
       "   Cloudiness  Wind Speed  \n",
       "0          95        1.16  \n",
       "1          20        1.12  \n",
       "2          90       17.22  \n",
       "3           1        0.78  \n",
       "4          97        6.15  "
      ],
      "text/html": "<div>\n<style scoped>\n    .dataframe tbody tr th:only-of-type {\n        vertical-align: middle;\n    }\n\n    .dataframe tbody tr th {\n        vertical-align: top;\n    }\n\n    .dataframe thead th {\n        text-align: right;\n    }\n</style>\n<table border=\"1\" class=\"dataframe\">\n  <thead>\n    <tr style=\"text-align: right;\">\n      <th></th>\n      <th>City</th>\n      <th>Country</th>\n      <th>Date</th>\n      <th>Lat</th>\n      <th>Lng</th>\n      <th>Max Temp</th>\n      <th>Humidity</th>\n      <th>Cloudiness</th>\n      <th>Wind Speed</th>\n    </tr>\n  </thead>\n  <tbody>\n    <tr>\n      <th>0</th>\n      <td>Airai</td>\n      <td>TL</td>\n      <td>2020-10-15 18:18:57</td>\n      <td>-8.93</td>\n      <td>125.41</td>\n      <td>60.85</td>\n      <td>82</td>\n      <td>95</td>\n      <td>1.16</td>\n    </tr>\n    <tr>\n      <th>1</th>\n      <td>Georgetown</td>\n      <td>MY</td>\n      <td>2020-10-15 18:14:51</td>\n      <td>5.41</td>\n      <td>100.34</td>\n      <td>80.60</td>\n      <td>88</td>\n      <td>20</td>\n      <td>1.12</td>\n    </tr>\n    <tr>\n      <th>2</th>\n      <td>Nome</td>\n      <td>US</td>\n      <td>2020-10-15 18:19:06</td>\n      <td>64.50</td>\n      <td>-165.41</td>\n      <td>35.60</td>\n      <td>93</td>\n      <td>90</td>\n      <td>17.22</td>\n    </tr>\n    <tr>\n      <th>3</th>\n      <td>Kihei</td>\n      <td>US</td>\n      <td>2020-10-15 18:22:19</td>\n      <td>20.79</td>\n      <td>-156.47</td>\n      <td>78.01</td>\n      <td>73</td>\n      <td>1</td>\n      <td>0.78</td>\n    </tr>\n    <tr>\n      <th>4</th>\n      <td>Yartsevo</td>\n      <td>RU</td>\n      <td>2020-10-15 18:22:19</td>\n      <td>55.07</td>\n      <td>32.70</td>\n      <td>48.49</td>\n      <td>82</td>\n      <td>97</td>\n      <td>6.15</td>\n    </tr>\n  </tbody>\n</table>\n</div>"
     },
     "metadata": {},
     "execution_count": 17
    }
   ],
   "source": [
    "city_data_df.head()"
   ]
  },
  {
   "cell_type": "code",
   "execution_count": 21,
   "metadata": {},
   "outputs": [],
   "source": [
    "# Create the output file (CSV).\n",
    "output_data_file = \"weather_data/cities.csv\"\n",
    "# Export the City_Data into a CSV.\n",
    "city_data_df.to_csv(output_data_file, index_label=\"City_ID\")"
   ]
  },
  {
   "cell_type": "code",
   "execution_count": null,
   "metadata": {},
   "outputs": [],
   "source": []
  }
 ]
}