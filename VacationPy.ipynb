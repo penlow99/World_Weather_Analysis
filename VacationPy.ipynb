{
 "metadata": {
  "language_info": {
   "codemirror_mode": {
    "name": "ipython",
    "version": 3
   },
   "file_extension": ".py",
   "mimetype": "text/x-python",
   "name": "python",
   "nbconvert_exporter": "python",
   "pygments_lexer": "ipython3",
   "version": "3.8.3-final"
  },
  "orig_nbformat": 2,
  "kernelspec": {
   "name": "pythondata",
   "display_name": "PythonData"
  }
 },
 "nbformat": 4,
 "nbformat_minor": 2,
 "cells": [
  {
   "cell_type": "code",
   "execution_count": 39,
   "metadata": {},
   "outputs": [],
   "source": [
    "# Import the dependencies\n",
    "import pandas as pd \n",
    "import gmaps\n",
    "import requests\n",
    "# Import the API key\n",
    "from config import g_key"
   ]
  },
  {
   "cell_type": "code",
   "execution_count": 3,
   "metadata": {},
   "outputs": [
    {
     "output_type": "execute_result",
     "data": {
      "text/plain": [
       "   City_ID            City Country                 Date    Lat     Lng  \\\n",
       "0        0           Dawei      MM  2020-10-21 17:47:42  14.08   98.20   \n",
       "1        1           Kapaa      US  2020-10-21 17:47:42  22.08 -159.32   \n",
       "2        2       Cape Town      ZA  2020-10-21 17:43:22 -33.93   18.42   \n",
       "3        3      Bredasdorp      ZA  2020-10-21 17:47:42 -34.53   20.04   \n",
       "4        4  Saint-Francois      FR  2020-10-21 17:47:42  46.42    3.91   \n",
       "\n",
       "   Max Temp  Humidity  Cloudiness  Wind Speed  \n",
       "0     74.55        89          44        3.58  \n",
       "1     71.60        88          20        5.82  \n",
       "2     61.00        77           0       17.22  \n",
       "3     60.80        77           0        5.82  \n",
       "4     68.00        52          73       14.99  "
      ],
      "text/html": "<div>\n<style scoped>\n    .dataframe tbody tr th:only-of-type {\n        vertical-align: middle;\n    }\n\n    .dataframe tbody tr th {\n        vertical-align: top;\n    }\n\n    .dataframe thead th {\n        text-align: right;\n    }\n</style>\n<table border=\"1\" class=\"dataframe\">\n  <thead>\n    <tr style=\"text-align: right;\">\n      <th></th>\n      <th>City_ID</th>\n      <th>City</th>\n      <th>Country</th>\n      <th>Date</th>\n      <th>Lat</th>\n      <th>Lng</th>\n      <th>Max Temp</th>\n      <th>Humidity</th>\n      <th>Cloudiness</th>\n      <th>Wind Speed</th>\n    </tr>\n  </thead>\n  <tbody>\n    <tr>\n      <th>0</th>\n      <td>0</td>\n      <td>Dawei</td>\n      <td>MM</td>\n      <td>2020-10-21 17:47:42</td>\n      <td>14.08</td>\n      <td>98.20</td>\n      <td>74.55</td>\n      <td>89</td>\n      <td>44</td>\n      <td>3.58</td>\n    </tr>\n    <tr>\n      <th>1</th>\n      <td>1</td>\n      <td>Kapaa</td>\n      <td>US</td>\n      <td>2020-10-21 17:47:42</td>\n      <td>22.08</td>\n      <td>-159.32</td>\n      <td>71.60</td>\n      <td>88</td>\n      <td>20</td>\n      <td>5.82</td>\n    </tr>\n    <tr>\n      <th>2</th>\n      <td>2</td>\n      <td>Cape Town</td>\n      <td>ZA</td>\n      <td>2020-10-21 17:43:22</td>\n      <td>-33.93</td>\n      <td>18.42</td>\n      <td>61.00</td>\n      <td>77</td>\n      <td>0</td>\n      <td>17.22</td>\n    </tr>\n    <tr>\n      <th>3</th>\n      <td>3</td>\n      <td>Bredasdorp</td>\n      <td>ZA</td>\n      <td>2020-10-21 17:47:42</td>\n      <td>-34.53</td>\n      <td>20.04</td>\n      <td>60.80</td>\n      <td>77</td>\n      <td>0</td>\n      <td>5.82</td>\n    </tr>\n    <tr>\n      <th>4</th>\n      <td>4</td>\n      <td>Saint-Francois</td>\n      <td>FR</td>\n      <td>2020-10-21 17:47:42</td>\n      <td>46.42</td>\n      <td>3.91</td>\n      <td>68.00</td>\n      <td>52</td>\n      <td>73</td>\n      <td>14.99</td>\n    </tr>\n  </tbody>\n</table>\n</div>"
     },
     "metadata": {},
     "execution_count": 3
    }
   ],
   "source": [
    "# Store the CSV you saved (which as the city data created in part one) into a DataFrame.\n",
    "city_data_df = pd.read_csv(\"weather_data/cities.csv\")\n",
    "city_data_df.head()"
   ]
  },
  {
   "cell_type": "code",
   "execution_count": 4,
   "metadata": {},
   "outputs": [
    {
     "output_type": "execute_result",
     "data": {
      "text/plain": [
       "City_ID         int64\n",
       "City           object\n",
       "Country        object\n",
       "Date           object\n",
       "Lat           float64\n",
       "Lng           float64\n",
       "Max Temp      float64\n",
       "Humidity        int64\n",
       "Cloudiness      int64\n",
       "Wind Speed    float64\n",
       "dtype: object"
      ]
     },
     "metadata": {},
     "execution_count": 4
    }
   ],
   "source": [
    "city_data_df.dtypes"
   ]
  },
  {
   "cell_type": "code",
   "execution_count": 5,
   "metadata": {},
   "outputs": [],
   "source": [
    "# Configure gmaps to use Google API key\n",
    "gmaps.configure(api_key=g_key)"
   ]
  },
  {
   "cell_type": "code",
   "execution_count": 10,
   "metadata": {},
   "outputs": [
    {
     "output_type": "display_data",
     "data": {
      "text/plain": "Figure(layout=FigureLayout(height='420px'))",
      "application/vnd.jupyter.widget-view+json": {
       "version_major": 2,
       "version_minor": 0,
       "model_id": "07e876b1db894d149e8779d4bfd45058"
      }
     },
     "metadata": {}
    }
   ],
   "source": [
    "# Heatmap of temperature\n",
    "# Get the latitude and longitude.\n",
    "locations = city_data_df[[\"Lat\", \"Lng\"]]\n",
    "# Get the maximum temperature (in this case, the \"weights\" portion of the heatmap). \n",
    "max_temp = city_data_df[\"Max Temp\"]\n",
    "\n",
    "## gMaps does not accept negative values for heatmaps, so we need to replace anything less than 0 degrees \n",
    "## with 0 (code refactored for list comprehension below).\n",
    "# temps = []\n",
    "# for temp in max_temp:\n",
    "#     temps.append(max(temp, 0))\n",
    "\n",
    "# Assign the figure variable.\n",
    "fig = gmaps.figure(center=(30.0, 31.0), zoom_level=1.5)\n",
    "# Assign the heatmap variable to a map layer specifically for heat maps.\n",
    "# gMaps does not accept negative values, so we need to replace anything less than 0 degrees with 0 using list comprehension. \n",
    "heat_layer = gmaps.heatmap_layer(locations, weights=[max(temp, 0) for temp in max_temp], dissipating=False, max_intensity=300, point_radius=4)\n",
    "# Add the heatmap layer.\n",
    "fig.add_layer(heat_layer)\n",
    "# Call the figure to plot the data.\n",
    "fig"
   ]
  },
  {
   "cell_type": "code",
   "execution_count": 12,
   "metadata": {},
   "outputs": [
    {
     "output_type": "display_data",
     "data": {
      "text/plain": "Figure(layout=FigureLayout(height='420px'))",
      "application/vnd.jupyter.widget-view+json": {
       "version_major": 2,
       "version_minor": 0,
       "model_id": "eec550872611429991ea931019c4d7aa"
      }
     },
     "metadata": {}
    }
   ],
   "source": [
    "# Heatmap of percent humidity\n",
    "locations = city_data_df[[\"Lat\", \"Lng\"]]\n",
    "humidity = city_data_df[\"Humidity\"]\n",
    "fig = gmaps.figure(center=(30.0, 31.0), zoom_level=1.5)\n",
    "heat_layer = gmaps.heatmap_layer(locations, weights=humidity, dissipating=False, max_intensity=250, point_radius=3)\n",
    "# Add the heatmap layer\n",
    "fig.add_layer(heat_layer)\n",
    "# Call the figure to plot the data.\n",
    "fig"
   ]
  },
  {
   "cell_type": "code",
   "execution_count": 14,
   "metadata": {},
   "outputs": [
    {
     "output_type": "display_data",
     "data": {
      "text/plain": "Figure(layout=FigureLayout(height='420px'))",
      "application/vnd.jupyter.widget-view+json": {
       "version_major": 2,
       "version_minor": 0,
       "model_id": "dcc45d7466544528adbe01dc4e2e084f"
      }
     },
     "metadata": {}
    }
   ],
   "source": [
    "# Heatmap of cloudiness\n",
    "locations = city_data_df[[\"Lat\", \"Lng\"]]\n",
    "clouds = city_data_df[\"Cloudiness\"]\n",
    "fig = gmaps.figure(center=(30.0, 31.0), zoom_level=1.5)\n",
    "heat_layer = gmaps.heatmap_layer(locations, weights=clouds, dissipating=False, max_intensity=300, point_radius=4)\n",
    "# Add the heatmap layer\n",
    "fig.add_layer(heat_layer)\n",
    "# Call the figure to plot the data.\n",
    "fig"
   ]
  },
  {
   "cell_type": "code",
   "execution_count": 15,
   "metadata": {},
   "outputs": [
    {
     "output_type": "display_data",
     "data": {
      "text/plain": "Figure(layout=FigureLayout(height='420px'))",
      "application/vnd.jupyter.widget-view+json": {
       "version_major": 2,
       "version_minor": 0,
       "model_id": "dcca37b5fb474fdba395ff621af4480e"
      }
     },
     "metadata": {}
    }
   ],
   "source": [
    "# Heatmap of wind speed\n",
    "locations = city_data_df[[\"Lat\", \"Lng\"]]\n",
    "wind = city_data_df[\"Wind Speed\"]\n",
    "fig = gmaps.figure(center=(30.0, 31.0), zoom_level=1.5)\n",
    "heat_layer = gmaps.heatmap_layer(locations, weights=wind, dissipating=False, max_intensity=300, point_radius=4)\n",
    "# Add the heatmap layer\n",
    "fig.add_layer(heat_layer)\n",
    "# Call the figure to plot the data.\n",
    "fig"
   ]
  },
  {
   "cell_type": "code",
   "execution_count": 17,
   "metadata": {},
   "outputs": [],
   "source": [
    "# Ask the customer to add a minimum and maximum temperature value.\n",
    "min_temp = float(input(\"What is the minimum temperature you would like for your trip? \"))\n",
    "max_temp = float(input(\"What is the maximum temperature you would like for your trip? \"))"
   ]
  },
  {
   "cell_type": "code",
   "execution_count": 18,
   "metadata": {},
   "outputs": [],
   "source": [
    "preferred_cities_df = city_data_df.loc[(city_data_df['Max Temp'] >= min_temp) & \n",
    "                                       (city_data_df['Max Temp'] <= max_temp)]"
   ]
  },
  {
   "cell_type": "code",
   "execution_count": 21,
   "metadata": {},
   "outputs": [
    {
     "output_type": "execute_result",
     "data": {
      "text/plain": [
       "     City_ID          City Country                 Date    Lat     Lng  \\\n",
       "480      480       Tenango      MX  2020-10-21 17:48:48  18.65  -98.18   \n",
       "180      180      Victoria      HK  2020-10-21 17:44:58  22.29  114.16   \n",
       "172      172       Guacimo      CR  2020-10-21 17:48:05  10.21  -83.68   \n",
       "302      302        Riyadh      SA  2020-10-21 17:48:10  24.69   46.72   \n",
       "136      136       Bintulu      MY  2020-10-21 17:47:59   3.17  113.03   \n",
       "..       ...           ...     ...                  ...    ...     ...   \n",
       "91        91      Robstown      US  2020-10-21 17:47:54  27.79  -97.67   \n",
       "423      423  San Patricio      US  2020-10-21 17:48:40  28.02  -97.52   \n",
       "557      557       Batalha      BR  2020-10-21 17:48:58  -9.68  -37.12   \n",
       "137      137        Ixtapa      MX  2020-10-21 17:48:00  20.70 -105.20   \n",
       "392      392       Markala      ML  2020-10-21 17:48:36  13.70   -6.07   \n",
       "\n",
       "     Max Temp  Humidity  Cloudiness  Wind Speed  \n",
       "480     75.00        28           5        3.29  \n",
       "180     75.00        64         100        1.01  \n",
       "172     75.20        78          75        4.70  \n",
       "302     75.20        23           0        4.70  \n",
       "136     75.20        94          40        8.05  \n",
       "..        ...       ...         ...         ...  \n",
       "91      89.01        66          20       11.41  \n",
       "423     89.01        66          20       11.41  \n",
       "557     89.44        42          73       15.41  \n",
       "137     89.60        62           5        4.50  \n",
       "392     89.60        20           0        3.20  \n",
       "\n",
       "[178 rows x 10 columns]"
      ],
      "text/html": "<div>\n<style scoped>\n    .dataframe tbody tr th:only-of-type {\n        vertical-align: middle;\n    }\n\n    .dataframe tbody tr th {\n        vertical-align: top;\n    }\n\n    .dataframe thead th {\n        text-align: right;\n    }\n</style>\n<table border=\"1\" class=\"dataframe\">\n  <thead>\n    <tr style=\"text-align: right;\">\n      <th></th>\n      <th>City_ID</th>\n      <th>City</th>\n      <th>Country</th>\n      <th>Date</th>\n      <th>Lat</th>\n      <th>Lng</th>\n      <th>Max Temp</th>\n      <th>Humidity</th>\n      <th>Cloudiness</th>\n      <th>Wind Speed</th>\n    </tr>\n  </thead>\n  <tbody>\n    <tr>\n      <th>480</th>\n      <td>480</td>\n      <td>Tenango</td>\n      <td>MX</td>\n      <td>2020-10-21 17:48:48</td>\n      <td>18.65</td>\n      <td>-98.18</td>\n      <td>75.00</td>\n      <td>28</td>\n      <td>5</td>\n      <td>3.29</td>\n    </tr>\n    <tr>\n      <th>180</th>\n      <td>180</td>\n      <td>Victoria</td>\n      <td>HK</td>\n      <td>2020-10-21 17:44:58</td>\n      <td>22.29</td>\n      <td>114.16</td>\n      <td>75.00</td>\n      <td>64</td>\n      <td>100</td>\n      <td>1.01</td>\n    </tr>\n    <tr>\n      <th>172</th>\n      <td>172</td>\n      <td>Guacimo</td>\n      <td>CR</td>\n      <td>2020-10-21 17:48:05</td>\n      <td>10.21</td>\n      <td>-83.68</td>\n      <td>75.20</td>\n      <td>78</td>\n      <td>75</td>\n      <td>4.70</td>\n    </tr>\n    <tr>\n      <th>302</th>\n      <td>302</td>\n      <td>Riyadh</td>\n      <td>SA</td>\n      <td>2020-10-21 17:48:10</td>\n      <td>24.69</td>\n      <td>46.72</td>\n      <td>75.20</td>\n      <td>23</td>\n      <td>0</td>\n      <td>4.70</td>\n    </tr>\n    <tr>\n      <th>136</th>\n      <td>136</td>\n      <td>Bintulu</td>\n      <td>MY</td>\n      <td>2020-10-21 17:47:59</td>\n      <td>3.17</td>\n      <td>113.03</td>\n      <td>75.20</td>\n      <td>94</td>\n      <td>40</td>\n      <td>8.05</td>\n    </tr>\n    <tr>\n      <th>...</th>\n      <td>...</td>\n      <td>...</td>\n      <td>...</td>\n      <td>...</td>\n      <td>...</td>\n      <td>...</td>\n      <td>...</td>\n      <td>...</td>\n      <td>...</td>\n      <td>...</td>\n    </tr>\n    <tr>\n      <th>91</th>\n      <td>91</td>\n      <td>Robstown</td>\n      <td>US</td>\n      <td>2020-10-21 17:47:54</td>\n      <td>27.79</td>\n      <td>-97.67</td>\n      <td>89.01</td>\n      <td>66</td>\n      <td>20</td>\n      <td>11.41</td>\n    </tr>\n    <tr>\n      <th>423</th>\n      <td>423</td>\n      <td>San Patricio</td>\n      <td>US</td>\n      <td>2020-10-21 17:48:40</td>\n      <td>28.02</td>\n      <td>-97.52</td>\n      <td>89.01</td>\n      <td>66</td>\n      <td>20</td>\n      <td>11.41</td>\n    </tr>\n    <tr>\n      <th>557</th>\n      <td>557</td>\n      <td>Batalha</td>\n      <td>BR</td>\n      <td>2020-10-21 17:48:58</td>\n      <td>-9.68</td>\n      <td>-37.12</td>\n      <td>89.44</td>\n      <td>42</td>\n      <td>73</td>\n      <td>15.41</td>\n    </tr>\n    <tr>\n      <th>137</th>\n      <td>137</td>\n      <td>Ixtapa</td>\n      <td>MX</td>\n      <td>2020-10-21 17:48:00</td>\n      <td>20.70</td>\n      <td>-105.20</td>\n      <td>89.60</td>\n      <td>62</td>\n      <td>5</td>\n      <td>4.50</td>\n    </tr>\n    <tr>\n      <th>392</th>\n      <td>392</td>\n      <td>Markala</td>\n      <td>ML</td>\n      <td>2020-10-21 17:48:36</td>\n      <td>13.70</td>\n      <td>-6.07</td>\n      <td>89.60</td>\n      <td>20</td>\n      <td>0</td>\n      <td>3.20</td>\n    </tr>\n  </tbody>\n</table>\n<p>178 rows × 10 columns</p>\n</div>"
     },
     "metadata": {},
     "execution_count": 21
    }
   ],
   "source": [
    "preferred_cities_df.sort_values('Max Temp')"
   ]
  },
  {
   "cell_type": "code",
   "execution_count": 23,
   "metadata": {},
   "outputs": [
    {
     "output_type": "execute_result",
     "data": {
      "text/plain": [
       "City_ID       178\n",
       "City          178\n",
       "Country       176\n",
       "Date          178\n",
       "Lat           178\n",
       "Lng           178\n",
       "Max Temp      178\n",
       "Humidity      178\n",
       "Cloudiness    178\n",
       "Wind Speed    178\n",
       "dtype: int64"
      ]
     },
     "metadata": {},
     "execution_count": 23
    }
   ],
   "source": [
    "preferred_cities_df.count()"
   ]
  },
  {
   "cell_type": "code",
   "execution_count": 32,
   "metadata": {},
   "outputs": [
    {
     "output_type": "execute_result",
     "data": {
      "text/plain": [
       "     City_ID           City Country                 Date    Lat     Lng  \\\n",
       "21        21         Touros      BR  2020-10-21 17:45:54  -5.20  -35.46   \n",
       "30        30   Puerto Ayora      EC  2020-10-21 17:47:46  -0.74  -90.35   \n",
       "34        34         Atuona      PF  2020-10-21 17:47:46  -9.80 -139.03   \n",
       "35        35        Sabinas      MX  2020-10-21 17:47:46  27.85 -101.12   \n",
       "37        37         Xuddur      SO  2020-10-21 17:47:47   4.12   43.89   \n",
       "..       ...            ...     ...                  ...    ...     ...   \n",
       "551      551         Lufkin      US  2020-10-21 17:47:38  31.34  -94.73   \n",
       "553      553  Warner Robins      US  2020-10-21 17:48:58  32.62  -83.60   \n",
       "557      557        Batalha      BR  2020-10-21 17:48:58  -9.68  -37.12   \n",
       "558      558         Mgandu      TZ  2020-10-21 17:48:58  -5.95   34.13   \n",
       "562      562       Mabaruma      GY  2020-10-21 17:48:59   8.20  -59.78   \n",
       "\n",
       "     Max Temp  Humidity  Cloudiness  Wind Speed  \n",
       "21      78.80        83          75       14.99  \n",
       "30      77.00        73          75        8.05  \n",
       "34      77.27        72          52       17.29  \n",
       "35      83.53        52           4        9.69  \n",
       "37      80.17        64          27        4.83  \n",
       "..        ...       ...         ...         ...  \n",
       "551     84.99        61          40        4.70  \n",
       "553     80.60        69          75        4.70  \n",
       "557     89.44        42          73       15.41  \n",
       "558     76.06        43          83       12.08  \n",
       "562     85.73        74         100        5.03  \n",
       "\n",
       "[176 rows x 10 columns]"
      ],
      "text/html": "<div>\n<style scoped>\n    .dataframe tbody tr th:only-of-type {\n        vertical-align: middle;\n    }\n\n    .dataframe tbody tr th {\n        vertical-align: top;\n    }\n\n    .dataframe thead th {\n        text-align: right;\n    }\n</style>\n<table border=\"1\" class=\"dataframe\">\n  <thead>\n    <tr style=\"text-align: right;\">\n      <th></th>\n      <th>City_ID</th>\n      <th>City</th>\n      <th>Country</th>\n      <th>Date</th>\n      <th>Lat</th>\n      <th>Lng</th>\n      <th>Max Temp</th>\n      <th>Humidity</th>\n      <th>Cloudiness</th>\n      <th>Wind Speed</th>\n    </tr>\n  </thead>\n  <tbody>\n    <tr>\n      <th>21</th>\n      <td>21</td>\n      <td>Touros</td>\n      <td>BR</td>\n      <td>2020-10-21 17:45:54</td>\n      <td>-5.20</td>\n      <td>-35.46</td>\n      <td>78.80</td>\n      <td>83</td>\n      <td>75</td>\n      <td>14.99</td>\n    </tr>\n    <tr>\n      <th>30</th>\n      <td>30</td>\n      <td>Puerto Ayora</td>\n      <td>EC</td>\n      <td>2020-10-21 17:47:46</td>\n      <td>-0.74</td>\n      <td>-90.35</td>\n      <td>77.00</td>\n      <td>73</td>\n      <td>75</td>\n      <td>8.05</td>\n    </tr>\n    <tr>\n      <th>34</th>\n      <td>34</td>\n      <td>Atuona</td>\n      <td>PF</td>\n      <td>2020-10-21 17:47:46</td>\n      <td>-9.80</td>\n      <td>-139.03</td>\n      <td>77.27</td>\n      <td>72</td>\n      <td>52</td>\n      <td>17.29</td>\n    </tr>\n    <tr>\n      <th>35</th>\n      <td>35</td>\n      <td>Sabinas</td>\n      <td>MX</td>\n      <td>2020-10-21 17:47:46</td>\n      <td>27.85</td>\n      <td>-101.12</td>\n      <td>83.53</td>\n      <td>52</td>\n      <td>4</td>\n      <td>9.69</td>\n    </tr>\n    <tr>\n      <th>37</th>\n      <td>37</td>\n      <td>Xuddur</td>\n      <td>SO</td>\n      <td>2020-10-21 17:47:47</td>\n      <td>4.12</td>\n      <td>43.89</td>\n      <td>80.17</td>\n      <td>64</td>\n      <td>27</td>\n      <td>4.83</td>\n    </tr>\n    <tr>\n      <th>...</th>\n      <td>...</td>\n      <td>...</td>\n      <td>...</td>\n      <td>...</td>\n      <td>...</td>\n      <td>...</td>\n      <td>...</td>\n      <td>...</td>\n      <td>...</td>\n      <td>...</td>\n    </tr>\n    <tr>\n      <th>551</th>\n      <td>551</td>\n      <td>Lufkin</td>\n      <td>US</td>\n      <td>2020-10-21 17:47:38</td>\n      <td>31.34</td>\n      <td>-94.73</td>\n      <td>84.99</td>\n      <td>61</td>\n      <td>40</td>\n      <td>4.70</td>\n    </tr>\n    <tr>\n      <th>553</th>\n      <td>553</td>\n      <td>Warner Robins</td>\n      <td>US</td>\n      <td>2020-10-21 17:48:58</td>\n      <td>32.62</td>\n      <td>-83.60</td>\n      <td>80.60</td>\n      <td>69</td>\n      <td>75</td>\n      <td>4.70</td>\n    </tr>\n    <tr>\n      <th>557</th>\n      <td>557</td>\n      <td>Batalha</td>\n      <td>BR</td>\n      <td>2020-10-21 17:48:58</td>\n      <td>-9.68</td>\n      <td>-37.12</td>\n      <td>89.44</td>\n      <td>42</td>\n      <td>73</td>\n      <td>15.41</td>\n    </tr>\n    <tr>\n      <th>558</th>\n      <td>558</td>\n      <td>Mgandu</td>\n      <td>TZ</td>\n      <td>2020-10-21 17:48:58</td>\n      <td>-5.95</td>\n      <td>34.13</td>\n      <td>76.06</td>\n      <td>43</td>\n      <td>83</td>\n      <td>12.08</td>\n    </tr>\n    <tr>\n      <th>562</th>\n      <td>562</td>\n      <td>Mabaruma</td>\n      <td>GY</td>\n      <td>2020-10-21 17:48:59</td>\n      <td>8.20</td>\n      <td>-59.78</td>\n      <td>85.73</td>\n      <td>74</td>\n      <td>100</td>\n      <td>5.03</td>\n    </tr>\n  </tbody>\n</table>\n<p>176 rows × 10 columns</p>\n</div>"
     },
     "metadata": {},
     "execution_count": 32
    }
   ],
   "source": [
    "preferred_cities_df.dropna()"
   ]
  },
  {
   "cell_type": "code",
   "execution_count": 34,
   "metadata": {},
   "outputs": [
    {
     "output_type": "execute_result",
     "data": {
      "text/plain": [
       "City          176\n",
       "Country       176\n",
       "Max Temp      176\n",
       "Lat           176\n",
       "Lng           176\n",
       "Hotel Name    176\n",
       "dtype: int64"
      ]
     },
     "metadata": {},
     "execution_count": 34
    }
   ],
   "source": [
    "# Create a DataFrame to store hotels based on city, along with country, max temp, and coordinates. \n",
    "hotel_df = preferred_cities_df[['City', 'Country', 'Max Temp', 'Lat', 'Lng', ]].dropna().copy()\n",
    "hotel_df['Hotel Name'] = ''\n",
    "hotel_df.count()"
   ]
  },
  {
   "cell_type": "code",
   "execution_count": null,
   "metadata": {},
   "outputs": [],
   "source": [
    "# 'https://maps.googleapis.com/maps/api/place/nearbysearch/json?location=-33.8670522,151.1957362&radius=1500&type=lodging&key=' + g_key"
   ]
  },
  {
   "cell_type": "code",
   "execution_count": 35,
   "metadata": {},
   "outputs": [],
   "source": [
    "# Set parameters to search for a hotel.\n",
    "params = {\n",
    "        \"radius\": 5000,\n",
    "        \"type\": \"lodging\",\n",
    "        \"key\": g_key\n",
    "}"
   ]
  },
  {
   "cell_type": "code",
   "execution_count": 40,
   "metadata": {},
   "outputs": [
    {
     "output_type": "stream",
     "name": "stdout",
     "text": [
      "INN NEW HORIZON\n",
      "Finch Bay Galapagos Hotel\n",
      "Villa Enata\n",
      "Gran Hotel Sabinas\n",
      "Banjanay Hotel\n",
      "محمد هادي ال فطيح\n",
      "CHACARA BAILLY\n",
      "POUSADA O RECANTO\n",
      "Chambres d'hôte \"La Trinité\"\n",
      "Expeditions Ténére voyages\n",
      "Hotel Fortune\n",
      "Holiday Inn Express & Suites Elk Grove Central - Hwy 99\n",
      "Quality Inn Ingleside - Corpus Christi\n",
      "Abaco Beach Resort\n",
      "Hilo Hawaiian Hotel\n",
      "VS Villa\n",
      "Isles Sunset Lodge\n",
      "Siesta Hotel\n",
      "Emeraude Beach Attitude Hotel\n",
      "Kost Putri RABBANI\n",
      "Cititel Penang\n",
      "Hôtel & Restaurant DIANA Ambilobe\n",
      "Days Inn by Wyndham Robstown\n",
      "Hotel Vitória Palace\n",
      "Grage Hotel Bengkulu\n",
      "Pousada Porto Praia\n",
      "Atlantis Hotel\n",
      "HAMDAN PLAZA HOTEL\n",
      "Hotels in Lakshadweep Islands\n",
      "Hotel Gaudi\n",
      "Derogongan Residence\n",
      "3G hotel pasni\n",
      "Casa Tia Villa\n",
      "Hotel not found...skipping.\n",
      "Hotel Cortez\n",
      "900 Boutique INN\n",
      "Container Inn Puerto Vallarta\n",
      "Hotel Kununurra\n",
      "Mystic Sands\n",
      "Chez Dydyce Guesthouse\n",
      "Maui Seaside Hotel\n",
      "Kimbe Bay Hotel\n",
      "OYO 3278 Penginapan Alfajri\n",
      "Nuba Nile\n",
      "Hotel Sagar Residency\n",
      "Hospedaje Costa Bella\n",
      "Pension Oaoa\n",
      "Hotel Los Ríos\n",
      "Comfort Inn Hotel\n",
      "Pousada 100 Passos\n",
      "Scoop Guest House\n",
      "Hotel 5 Sóis\n",
      "Mini Hotel Central\n",
      "Okra Leaf Guest House Syariah\n",
      "Kost Pria\n",
      "Hotel not found...skipping.\n",
      "Shandrani Beachcomber Resort & Spa\n",
      "Macs\n",
      "WHITNEY-WOLCOTT HOUSE ON LAKE CHARM\n",
      "CeBlue Villas & Beach Resort\n",
      "Hotel Juba\n",
      "Udaya Boys Hostel\n",
      "Quinta Samay\n",
      "Pakbanglake resort ปากบางเลค รีสอร์ท\n",
      "Pine Tree Motel\n",
      "Grand hotel and golf\n",
      "Vahmoneh Lodge Vanimo\n",
      "Grand Kecubung Hotel\n",
      "Hotel not found...skipping.\n",
      "Hotel Fairmont Makkah Clock Royal Tower\n",
      "Pousada do Trevo\n",
      "Bils' Villa\n",
      "Guesthouse Samotina\n",
      "Kindness Hotel\n",
      "Hotel Maione\n",
      "Desert Gardens Hotel - Ayers Rock Resort\n",
      "Hampton Inn Elizabeth City\n",
      "Hôtel Le Dronmi\n",
      "Ungoofaaru Inn\n",
      "Fortune Resort Bay Island\n",
      "Screensaver\n",
      "Conrad Bora Bora Nui\n",
      "Hotel Regente\n",
      "Aboody Alhachem\n",
      "Hotel not found...skipping.\n",
      "Vanira Lodge\n",
      "Resorts Resource Group International\n",
      "La Quinta Inn & Suites by Wyndham Rome\n",
      "Stop.\n",
      "Bora-Bora Pearl Beach Resort & Spa\n",
      "Pousada dos Navegantes\n",
      "Comfort Inn & Suites Texas City\n",
      "RG Palace\n",
      "Hotel La dorada\n",
      "SanBiz Lodge\n",
      "OYO 1577 Hotel Shree Hari Grand\n",
      "Hotel not found...skipping.\n",
      "Résidence ARCHANGE\n",
      "The Waigo Hotel\n",
      "Hotel Octave Maldives\n",
      "INN CORNER RIVER - PRADO - BAHIA - HOUSING AND HOTEL\n",
      "Khách sạn Sài Gòn Bạc Liêu\n",
      "InterContinental Riyadh\n",
      "Marriott's Ko Olina Beach Club\n",
      "Hotel not found...skipping.\n",
      "Hotel Hacienda Campestre\n",
      "بزرگمهر بزرگ زهیریه رامشیر\n",
      "New century hotel\n",
      "فروشگاه موبایل ترکمانی\n",
      "Mercure Padang\n",
      "REER XOOSHLE GROUP\n",
      "Hotel Syariah CN Darussalam\n",
      "Lorengau Harbourside Hotel\n",
      "Lua Mansa Pousada\n",
      "Haji laloo memon house\n",
      "Camp Pālehua\n",
      "Linareva Moorea Beach Resort\n",
      "Kings Inn Paris TX\n",
      "Pousada Recanto do Cerrado\n",
      "Doha Marriott Hotel\n",
      "Cachoeira Apart Hotel\n",
      "Chibombo District Council Guest House\n",
      "Yaya Hôtel\n",
      "Hotel Central\n",
      "Nathaniel's Lodge\n",
      "Hotel not found...skipping.\n",
      "Swiss-Belhotel Ambon\n",
      "Suan Sampran\n",
      "Hotel not found...skipping.\n",
      "Hotel not found...skipping.\n",
      "Mega Hotel, Miri\n",
      "Hampton Inn & Suites Washington-Dulles International Airport\n",
      "Lahaina Shores Beach Resort\n",
      "Motel 6 Sinton, TX\n",
      "La Quinta Inn & Suites by Wyndham Little Rock - Bryant\n",
      "Oceano\n",
      "HS Hotsson Smart Acapulco\n",
      "hotêl doufoulougou\n",
      "Namatanai Hotel\n",
      "Hotel not found...skipping.\n",
      "Pereybere Hotel & Spa\n",
      "Hilton Virginia Beach Oceanfront\n",
      "Trou aux Biches Beachcomber Golf Resort & Spa\n",
      "Hotel Palacio Del Sol\n",
      "la terrasse\n",
      "Embassy Suites by Hilton Huntsville Hotel & Spa\n",
      "Auki Motel\n",
      "Holiday Inn Express & Suites del Rio\n",
      "Nusa Island Retreat\n",
      "Residence 'I Delfini'\n",
      "Bustani B&B\n",
      "Hotel not found...skipping.\n",
      "El Medina\n",
      "Hotel y restaurante \"El Diamante\"\n",
      "Butterfly Beach Hotel\n",
      "Ritz Lauca\n",
      "Hotel La Ballena Azul\n",
      "Osprey Beach Hotel\n",
      "Pousada Porto De Canoas\n",
      "Camp Pasica\n",
      "Tarawa Boutique Hotel\n",
      "Phama Lodge\n",
      "Hospedaje Eco\n",
      "قريه جديده\n",
      "Araguaia Palace Hotel\n",
      "Passion Hotel 2\n",
      "Nuli Sapi\n",
      "Hotel Pousada Quinta do Sul\n",
      "Sherwood Motel\n",
      "Chicho Hotel\n",
      "Seaside Resort\n",
      "Courtyard by Marriott Lufkin\n",
      "Super 8 by Wyndham Warner Robins\n",
      "Pousada Solar do Sertão\n",
      "Hotel not found...skipping.\n",
      "Hotel not found...skipping.\n"
     ]
    }
   ],
   "source": [
    "# Iterate through the DataFrame\n",
    "for index, row in hotel_df.iterrows():\n",
    "    # Get lat, long\n",
    "    lat = row['Lat']\n",
    "    lng = row['Lng']\n",
    "\n",
    "    # Add the lat and long to location key for the params dictionary\n",
    "    params[\"location\"] = f\"{lat},{lng}\"\n",
    "\n",
    "    # Use the 'type' of lodging, the lat/lng pair, and url to make request\n",
    "    base_url = 'https://maps.googleapis.com/maps/api/place/nearbysearch/json'\n",
    "    hotels = requests.get(base_url, params=params).json()\n",
    "    # Use try block to catch any request errors\n",
    "    try:\n",
    "        # Grab the first hotel from the response and store the name\n",
    "        hotel_df.loc[index, 'Hotel Name'] = hotels['results'][0]['name']\n",
    "        print(hotels['results'][0]['name'])\n",
    "    except (IndexError):\n",
    "        print('Hotel not found...skipping.')"
   ]
  },
  {
   "cell_type": "code",
   "execution_count": 41,
   "metadata": {},
   "outputs": [
    {
     "output_type": "execute_result",
     "data": {
      "text/plain": [
       "City          176\n",
       "Country       176\n",
       "Max Temp      176\n",
       "Lat           176\n",
       "Lng           176\n",
       "Hotel Name    176\n",
       "dtype: int64"
      ]
     },
     "metadata": {},
     "execution_count": 41
    }
   ],
   "source": [
    "hotel_df.count()"
   ]
  },
  {
   "cell_type": "code",
   "execution_count": 42,
   "metadata": {},
   "outputs": [
    {
     "output_type": "execute_result",
     "data": {
      "text/plain": [
       "              City Country  Max Temp    Lat     Lng  \\\n",
       "21          Touros      BR     78.80  -5.20  -35.46   \n",
       "30    Puerto Ayora      EC     77.00  -0.74  -90.35   \n",
       "34          Atuona      PF     77.27  -9.80 -139.03   \n",
       "35         Sabinas      MX     83.53  27.85 -101.12   \n",
       "37          Xuddur      SO     80.17   4.12   43.89   \n",
       "..             ...     ...       ...    ...     ...   \n",
       "551         Lufkin      US     84.99  31.34  -94.73   \n",
       "553  Warner Robins      US     80.60  32.62  -83.60   \n",
       "557        Batalha      BR     89.44  -9.68  -37.12   \n",
       "558         Mgandu      TZ     76.06  -5.95   34.13   \n",
       "562       Mabaruma      GY     85.73   8.20  -59.78   \n",
       "\n",
       "                           Hotel Name  \n",
       "21                    INN NEW HORIZON  \n",
       "30          Finch Bay Galapagos Hotel  \n",
       "34                        Villa Enata  \n",
       "35                 Gran Hotel Sabinas  \n",
       "37                     Banjanay Hotel  \n",
       "..                                ...  \n",
       "551      Courtyard by Marriott Lufkin  \n",
       "553  Super 8 by Wyndham Warner Robins  \n",
       "557           Pousada Solar do Sertão  \n",
       "558                                    \n",
       "562                                    \n",
       "\n",
       "[176 rows x 6 columns]"
      ],
      "text/html": "<div>\n<style scoped>\n    .dataframe tbody tr th:only-of-type {\n        vertical-align: middle;\n    }\n\n    .dataframe tbody tr th {\n        vertical-align: top;\n    }\n\n    .dataframe thead th {\n        text-align: right;\n    }\n</style>\n<table border=\"1\" class=\"dataframe\">\n  <thead>\n    <tr style=\"text-align: right;\">\n      <th></th>\n      <th>City</th>\n      <th>Country</th>\n      <th>Max Temp</th>\n      <th>Lat</th>\n      <th>Lng</th>\n      <th>Hotel Name</th>\n    </tr>\n  </thead>\n  <tbody>\n    <tr>\n      <th>21</th>\n      <td>Touros</td>\n      <td>BR</td>\n      <td>78.80</td>\n      <td>-5.20</td>\n      <td>-35.46</td>\n      <td>INN NEW HORIZON</td>\n    </tr>\n    <tr>\n      <th>30</th>\n      <td>Puerto Ayora</td>\n      <td>EC</td>\n      <td>77.00</td>\n      <td>-0.74</td>\n      <td>-90.35</td>\n      <td>Finch Bay Galapagos Hotel</td>\n    </tr>\n    <tr>\n      <th>34</th>\n      <td>Atuona</td>\n      <td>PF</td>\n      <td>77.27</td>\n      <td>-9.80</td>\n      <td>-139.03</td>\n      <td>Villa Enata</td>\n    </tr>\n    <tr>\n      <th>35</th>\n      <td>Sabinas</td>\n      <td>MX</td>\n      <td>83.53</td>\n      <td>27.85</td>\n      <td>-101.12</td>\n      <td>Gran Hotel Sabinas</td>\n    </tr>\n    <tr>\n      <th>37</th>\n      <td>Xuddur</td>\n      <td>SO</td>\n      <td>80.17</td>\n      <td>4.12</td>\n      <td>43.89</td>\n      <td>Banjanay Hotel</td>\n    </tr>\n    <tr>\n      <th>...</th>\n      <td>...</td>\n      <td>...</td>\n      <td>...</td>\n      <td>...</td>\n      <td>...</td>\n      <td>...</td>\n    </tr>\n    <tr>\n      <th>551</th>\n      <td>Lufkin</td>\n      <td>US</td>\n      <td>84.99</td>\n      <td>31.34</td>\n      <td>-94.73</td>\n      <td>Courtyard by Marriott Lufkin</td>\n    </tr>\n    <tr>\n      <th>553</th>\n      <td>Warner Robins</td>\n      <td>US</td>\n      <td>80.60</td>\n      <td>32.62</td>\n      <td>-83.60</td>\n      <td>Super 8 by Wyndham Warner Robins</td>\n    </tr>\n    <tr>\n      <th>557</th>\n      <td>Batalha</td>\n      <td>BR</td>\n      <td>89.44</td>\n      <td>-9.68</td>\n      <td>-37.12</td>\n      <td>Pousada Solar do Sertão</td>\n    </tr>\n    <tr>\n      <th>558</th>\n      <td>Mgandu</td>\n      <td>TZ</td>\n      <td>76.06</td>\n      <td>-5.95</td>\n      <td>34.13</td>\n      <td></td>\n    </tr>\n    <tr>\n      <th>562</th>\n      <td>Mabaruma</td>\n      <td>GY</td>\n      <td>85.73</td>\n      <td>8.20</td>\n      <td>-59.78</td>\n      <td></td>\n    </tr>\n  </tbody>\n</table>\n<p>176 rows × 6 columns</p>\n</div>"
     },
     "metadata": {},
     "execution_count": 42
    }
   ],
   "source": [
    "hotel_df"
   ]
  },
  {
   "cell_type": "code",
   "execution_count": 47,
   "metadata": {},
   "outputs": [],
   "source": [
    "info_box_template = \"\"\"\n",
    "<dl>\n",
    "<dt>Hotel Name</dt><dd>{Hotel Name}</dd>\n",
    "<dt>City</dt><dd>{City}</dd>\n",
    "<dt>Country</dt><dd>{Country}</dd>\n",
    "<dt>Max Temp</dt><dd>{Max Temp} °F</dd>\n",
    "</dl>\n",
    "\"\"\"\n",
    "# Store the DataFrame Row.\n",
    "hotel_info = [info_box_template.format(**row) for index, row in hotel_df.iterrows()]"
   ]
  },
  {
   "cell_type": "code",
   "execution_count": 48,
   "metadata": {},
   "outputs": [
    {
     "output_type": "display_data",
     "data": {
      "text/plain": "Figure(layout=FigureLayout(height='420px'))",
      "application/vnd.jupyter.widget-view+json": {
       "version_major": 2,
       "version_minor": 0,
       "model_id": "0d5f60d5e9ef45fbab7fa3e71c40fc3c"
      }
     },
     "metadata": {}
    }
   ],
   "source": [
    "# Add a heatmap of temperature for the vacation spots and marker for each city.\n",
    "locations = hotel_df[['Lat', 'Lng']]\n",
    "max_temp = hotel_df['Max Temp']\n",
    "fig = gmaps.figure(center=(30.0, 31.0), zoom_level=1.5)\n",
    "heat_layer = gmaps.heatmap_layer(locations, weights=max_temp,\n",
    "             dissipating=False, max_intensity=300, point_radius=4)\n",
    "marker_layer = gmaps.marker_layer(locations, info_box_content=hotel_info)\n",
    "fig.add_layer(heat_layer)\n",
    "fig.add_layer(marker_layer)\n",
    "# Call fig and plot data\n",
    "fig"
   ]
  },
  {
   "cell_type": "code",
   "execution_count": null,
   "metadata": {},
   "outputs": [],
   "source": []
  }
 ]
}